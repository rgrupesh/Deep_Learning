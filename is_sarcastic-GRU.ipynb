{
 "cells": [
  {
   "cell_type": "code",
   "execution_count": 1,
   "metadata": {},
   "outputs": [
    {
     "name": "stdout",
     "output_type": "stream",
     "text": [
      "2.1.0\n"
     ]
    }
   ],
   "source": [
    "import tensorflow as tf\n",
    "import numpy as np\n",
    "import json\n",
    "from tensorflow.keras.preprocessing.text import Tokenizer\n",
    "from tensorflow.keras.preprocessing.sequence import pad_sequences\n",
    "print(tf.__version__)"
   ]
  },
  {
   "cell_type": "code",
   "execution_count": 2,
   "metadata": {},
   "outputs": [],
   "source": [
    "with open('C:\\\\Users\\\\HP\\\\Sarcasm_Headlines_Dataset_v2.json') as file:\n",
    "    datastore=json.load(file)"
   ]
  },
  {
   "cell_type": "code",
   "execution_count": 3,
   "metadata": {},
   "outputs": [],
   "source": [
    "training_size= 20000\n",
    "vocab_size=1000\n",
    "max_size=120\n",
    "padding_type=\"post\"\n",
    "truncating_type=\"post\"\n",
    "embedding_dim=16\n",
    "\n",
    "\n",
    "sentences=[]\n",
    "labels=[]\n",
    "\n",
    "for data in datastore:\n",
    "    sentences.append(data['headline'])\n",
    "    labels.append(data['is_sarcastic'])\n",
    "    \n",
    "training_sentences=sentences[0:training_size]\n",
    "training_labels=labels[0:training_size]\n",
    "testing_sentences=sentences[training_size:]\n",
    "testing_labels=labels[training_size:]\n"
   ]
  },
  {
   "cell_type": "code",
   "execution_count": 4,
   "metadata": {},
   "outputs": [],
   "source": [
    "tokenizer=Tokenizer(num_words=vocab_size, oov_token=\"<OOV>\")\n",
    "tokenizer.fit_on_texts(training_sentences)\n",
    "word_index=tokenizer.word_index\n",
    "\n",
    "training_sequences=tokenizer.texts_to_sequences(training_sentences)\n",
    "training_padding=pad_sequences(training_sequences, maxlen=max_size, padding=padding_type, truncating=truncating_type)\n",
    "\n",
    "testing_sequences=tokenizer.texts_to_sequences(testing_sentences)\n",
    "testing_padding=pad_sequences(testing_sequences, maxlen=max_size, padding=padding_type, truncating=truncating_type)\n"
   ]
  },
  {
   "cell_type": "code",
   "execution_count": 5,
   "metadata": {},
   "outputs": [
    {
     "name": "stdout",
     "output_type": "stream",
     "text": [
      "Model: \"sequential\"\n",
      "_________________________________________________________________\n",
      "Layer (type)                 Output Shape              Param #   \n",
      "=================================================================\n",
      "embedding (Embedding)        (None, 120, 16)           16000     \n",
      "_________________________________________________________________\n",
      "bidirectional (Bidirectional (None, 64)                9600      \n",
      "_________________________________________________________________\n",
      "dense (Dense)                (None, 24)                1560      \n",
      "_________________________________________________________________\n",
      "dense_1 (Dense)              (None, 1)                 25        \n",
      "=================================================================\n",
      "Total params: 27,185\n",
      "Trainable params: 27,185\n",
      "Non-trainable params: 0\n",
      "_________________________________________________________________\n"
     ]
    }
   ],
   "source": [
    "model=tf.keras.models.Sequential([\n",
    "    tf.keras.layers.Embedding(vocab_size,embedding_dim, input_length=max_size),\n",
    "    tf.keras.layers.Bidirectional(tf.keras.layers.GRU(32)),\n",
    "    tf.keras.layers.Dense(24, activation=\"relu\"),\n",
    "    tf.keras.layers.Dense(1,activation=\"sigmoid\")\n",
    "])\n",
    "model.compile(loss=\"binary_crossentropy\", optimizer=\"adam\", metrics=[\"acc\"])\n",
    "model.summary()"
   ]
  },
  {
   "cell_type": "code",
   "execution_count": 6,
   "metadata": {},
   "outputs": [
    {
     "name": "stdout",
     "output_type": "stream",
     "text": [
      "Train on 20000 samples, validate on 6709 samples\n",
      "Epoch 1/20\n",
      "20000/20000 [==============================] - 11s 542us/sample - loss: 0.4445 - acc: 0.7768 - val_loss: 0.3971 - val_acc: 0.8125\n",
      "Epoch 2/20\n",
      "20000/20000 [==============================] - 7s 369us/sample - loss: 0.3582 - acc: 0.8343 - val_loss: 0.3783 - val_acc: 0.8241\n",
      "Epoch 3/20\n",
      "20000/20000 [==============================] - 7s 357us/sample - loss: 0.3320 - acc: 0.8492 - val_loss: 0.3802 - val_acc: 0.8216\n",
      "Epoch 4/20\n",
      "20000/20000 [==============================] - 7s 366us/sample - loss: 0.3170 - acc: 0.8569 - val_loss: 0.3909 - val_acc: 0.8258\n",
      "Epoch 5/20\n",
      "20000/20000 [==============================] - 7s 363us/sample - loss: 0.3069 - acc: 0.8594 - val_loss: 0.3767 - val_acc: 0.8296\n",
      "Epoch 6/20\n",
      "20000/20000 [==============================] - 7s 373us/sample - loss: 0.2980 - acc: 0.8672 - val_loss: 0.3721 - val_acc: 0.8281\n",
      "Epoch 7/20\n",
      "20000/20000 [==============================] - 8s 382us/sample - loss: 0.2842 - acc: 0.8737 - val_loss: 0.3983 - val_acc: 0.8226\n",
      "Epoch 8/20\n",
      "20000/20000 [==============================] - 7s 374us/sample - loss: 0.2721 - acc: 0.8817 - val_loss: 0.3796 - val_acc: 0.8317\n",
      "Epoch 9/20\n",
      "20000/20000 [==============================] - 7s 370us/sample - loss: 0.2621 - acc: 0.8868 - val_loss: 0.3885 - val_acc: 0.8287\n",
      "Epoch 10/20\n",
      "20000/20000 [==============================] - 7s 369us/sample - loss: 0.2527 - acc: 0.8917 - val_loss: 0.4039 - val_acc: 0.8229\n",
      "Epoch 11/20\n",
      "20000/20000 [==============================] - 7s 367us/sample - loss: 0.2461 - acc: 0.8952 - val_loss: 0.4286 - val_acc: 0.8182\n",
      "Epoch 12/20\n",
      "20000/20000 [==============================] - 7s 373us/sample - loss: 0.2401 - acc: 0.8972 - val_loss: 0.4342 - val_acc: 0.8220\n",
      "Epoch 13/20\n",
      "20000/20000 [==============================] - 7s 372us/sample - loss: 0.2346 - acc: 0.8994 - val_loss: 0.4311 - val_acc: 0.8237\n",
      "Epoch 14/20\n",
      "20000/20000 [==============================] - 7s 375us/sample - loss: 0.2288 - acc: 0.9027 - val_loss: 0.4913 - val_acc: 0.8158\n",
      "Epoch 15/20\n",
      "20000/20000 [==============================] - 8s 377us/sample - loss: 0.2242 - acc: 0.9060 - val_loss: 0.4494 - val_acc: 0.8210\n",
      "Epoch 16/20\n",
      "20000/20000 [==============================] - 8s 385us/sample - loss: 0.2173 - acc: 0.9082 - val_loss: 0.4864 - val_acc: 0.8137\n",
      "Epoch 17/20\n",
      "20000/20000 [==============================] - 7s 374us/sample - loss: 0.2109 - acc: 0.9137 - val_loss: 0.4734 - val_acc: 0.8161\n",
      "Epoch 18/20\n",
      "20000/20000 [==============================] - 8s 378us/sample - loss: 0.2054 - acc: 0.9152 - val_loss: 0.4859 - val_acc: 0.8182\n",
      "Epoch 19/20\n",
      "20000/20000 [==============================] - 8s 380us/sample - loss: 0.1978 - acc: 0.9194 - val_loss: 0.4890 - val_acc: 0.8150\n",
      "Epoch 20/20\n",
      "20000/20000 [==============================] - 8s 396us/sample - loss: 0.1917 - acc: 0.9234 - val_loss: 0.5281 - val_acc: 0.8146\n"
     ]
    }
   ],
   "source": [
    "training_padding=np.array(training_padding)\n",
    "training_labels=np.array(training_labels)\n",
    "testing_padding-np.array(testing_padding)\n",
    "testing_labels=np.array(testing_labels)\n",
    "num_epochs=20\n",
    "\n",
    "history=model.fit(training_padding, training_labels, epochs=num_epochs, validation_data=(testing_padding,testing_labels), verbose=1)\n"
   ]
  },
  {
   "cell_type": "code",
   "execution_count": 9,
   "metadata": {},
   "outputs": [
    {
     "data": {
      "image/png": "[encoded data removed]",
      "text/plain": [
       "<Figure size 432x288 with 1 Axes>"
      ]
     },
     "metadata": {
      "needs_background": "light"
     },
     "output_type": "display_data"
    },
    {
     "data": {
      "image/png": "[encoded data removed]",
      "text/plain": [
       "<Figure size 432x288 with 1 Axes>"
      ]
     },
     "metadata": {
      "needs_background": "light"
     },
     "output_type": "display_data"
    }
   ],
   "source": [
    "import matplotlib.pyplot as plt\n",
    "\n",
    "def show_plot(history,string):\n",
    "    plt.plot(history.history[string])\n",
    "    plt.plot(history.history[\"val_\" + string])\n",
    "    plt.xlabel(\"epochs\")\n",
    "    plt.ylabel(string)\n",
    "    plt.legend([string,\"val_\" + string])\n",
    "    plt.show()\n",
    "    \n",
    "show_plot(history,\"acc\")  \n",
    "show_plot(history,\"loss\")\n",
    "             "
   ]
  },
  {
   "cell_type": "code",
   "execution_count": null,
   "metadata": {},
   "outputs": [],
   "source": []
  }
 ],
 "metadata": {
  "kernelspec": {
   "display_name": "Python 3",
   "language": "python",
   "name": "python3"
  },
  "language_info": {
   "codemirror_mode": {
    "name": "ipython",
    "version": 3
   },
   "file_extension": ".py",
   "mimetype": "text/x-python",
   "name": "python",
   "nbconvert_exporter": "python",
   "pygments_lexer": "ipython3",
   "version": "3.7.7"
  }
 },
 "nbformat": 4,
 "nbformat_minor": 4
}
