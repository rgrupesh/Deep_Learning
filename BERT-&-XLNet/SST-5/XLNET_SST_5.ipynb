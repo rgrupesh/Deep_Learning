{
  "nbformat": 4,
  "nbformat_minor": 0,
  "metadata": {
    "colab": {
      "name": "XLNET-SST-5.ipynb",
      "provenance": [],
      "collapsed_sections": []
    },
    "kernelspec": {
      "name": "python3",
      "display_name": "Python 3"
    },
    "accelerator": "GPU"
  },
  "cells": [
    {
      "cell_type": "code",
      "metadata": {
        "id": "lND6AhGv5c6Y",
        "colab_type": "code",
        "colab": {
          "base_uri": "https://localhost:8080/",
          "height": 136
        },
        "outputId": "7b500854-3c04-4b22-a71b-e3b55ba002aa"
      },
      "source": [
        "!pip install -q --upgrade pip\n",
        "!pip install -q tensorflow-gpu==2.2.0\n",
        "!pip install -q transformers"
      ],
      "execution_count": 8,
      "outputs": [
        {
          "output_type": "stream",
          "text": [
            "\u001b[K     |████████████████████████████████| 1.5MB 8.8MB/s \n",
            "\u001b[K     |████████████████████████████████| 516.2 MB 19 kB/s \n",
            "\u001b[K     |████████████████████████████████| 674 kB 7.7 MB/s \n",
            "\u001b[K     |████████████████████████████████| 883 kB 23.6 MB/s \n",
            "\u001b[K     |████████████████████████████████| 1.1 MB 48.8 MB/s \n",
            "\u001b[K     |████████████████████████████████| 3.8 MB 73.7 MB/s \n",
            "\u001b[?25h  Building wheel for sacremoses (setup.py) ... \u001b[?25l\u001b[?25hdone\n"
          ],
          "name": "stdout"
        }
      ]
    },
    {
      "cell_type": "code",
      "metadata": {
        "id": "KBBQKUAL5hy6",
        "colab_type": "code",
        "colab": {
          "base_uri": "https://localhost:8080/",
          "height": 119
        },
        "outputId": "c9356a25-b257-4161-a7a0-912376fd5fb4"
      },
      "source": [
        "!git clone https://github.com/rgrupesh/Deep_Learning.git"
      ],
      "execution_count": 9,
      "outputs": [
        {
          "output_type": "stream",
          "text": [
            "Cloning into 'Deep_Learning'...\n",
            "remote: Enumerating objects: 68, done.\u001b[K\n",
            "remote: Counting objects: 100% (68/68), done.\u001b[K\n",
            "remote: Compressing objects: 100% (60/60), done.\u001b[K\n",
            "remote: Total 68 (delta 27), reused 27 (delta 7), pack-reused 0\u001b[K\n",
            "Unpacking objects: 100% (68/68), done.\n"
          ],
          "name": "stdout"
        }
      ]
    },
    {
      "cell_type": "code",
      "metadata": {
        "id": "TmQ42dDJ6GSW",
        "colab_type": "code",
        "colab": {}
      },
      "source": [
        "import tensorflow as tf\n",
        "import pandas as pd\n",
        "import numpy as np"
      ],
      "execution_count": 0,
      "outputs": []
    },
    {
      "cell_type": "code",
      "metadata": {
        "id": "r8aKQOQY6Lgf",
        "colab_type": "code",
        "colab": {}
      },
      "source": [
        "train=pd.read_csv(\"/content/Deep_Learning/data/SST-5/sst_train.txt\", sep=\"\\t\",header=None, names=[\"label\", \"text\"])\n",
        "train=train[[\"text\",\"label\"]]\n",
        "train.label=train.label-1\n",
        "\n",
        "\n",
        "val=pd.read_csv(\"/content/Deep_Learning/data/SST-5/sst_dev.txt\", sep=\"\\t\",header=None, names=[\"label\", \"text\"])\n",
        "val=val[[\"text\",\"label\"]]\n",
        "val.label=val.label-1\n",
        "\n",
        "test=pd.read_csv(\"/content/Deep_Learning/data/SST-5/sst_test.txt\", sep=\"\\t\",header=None, names=[\"label\", \"text\"])\n",
        "test=test[[\"text\",\"label\"]]\n",
        "test.label=test.label-1"
      ],
      "execution_count": 0,
      "outputs": []
    },
    {
      "cell_type": "code",
      "metadata": {
        "id": "8VS6Y7CF6qTR",
        "colab_type": "code",
        "colab": {
          "base_uri": "https://localhost:8080/",
          "height": 204
        },
        "outputId": "8bcd4309-5038-45db-a3ed-1247be2a46c7"
      },
      "source": [
        "train.tail()"
      ],
      "execution_count": 99,
      "outputs": [
        {
          "output_type": "execute_result",
          "data": {
            "text/html": [
              "<div>\n",
              "<style scoped>\n",
              "    .dataframe tbody tr th:only-of-type {\n",
              "        vertical-align: middle;\n",
              "    }\n",
              "\n",
              "    .dataframe tbody tr th {\n",
              "        vertical-align: top;\n",
              "    }\n",
              "\n",
              "    .dataframe thead th {\n",
              "        text-align: right;\n",
              "    }\n",
              "</style>\n",
              "<table border=\"1\" class=\"dataframe\">\n",
              "  <thead>\n",
              "    <tr style=\"text-align: right;\">\n",
              "      <th></th>\n",
              "      <th>text</th>\n",
              "      <th>label</th>\n",
              "    </tr>\n",
              "  </thead>\n",
              "  <tbody>\n",
              "    <tr>\n",
              "      <th>8539</th>\n",
              "      <td>A real snooze .</td>\n",
              "      <td>0</td>\n",
              "    </tr>\n",
              "    <tr>\n",
              "      <th>8540</th>\n",
              "      <td>No surprises .</td>\n",
              "      <td>1</td>\n",
              "    </tr>\n",
              "    <tr>\n",
              "      <th>8541</th>\n",
              "      <td>We 've seen the hippie-turned-yuppie plot befo...</td>\n",
              "      <td>3</td>\n",
              "    </tr>\n",
              "    <tr>\n",
              "      <th>8542</th>\n",
              "      <td>Her fans walked out muttering words like `` ho...</td>\n",
              "      <td>0</td>\n",
              "    </tr>\n",
              "    <tr>\n",
              "      <th>8543</th>\n",
              "      <td>In this case zero .</td>\n",
              "      <td>1</td>\n",
              "    </tr>\n",
              "  </tbody>\n",
              "</table>\n",
              "</div>"
            ],
            "text/plain": [
              "                                                   text  label\n",
              "8539                                    A real snooze .      0\n",
              "8540                                     No surprises .      1\n",
              "8541  We 've seen the hippie-turned-yuppie plot befo...      3\n",
              "8542  Her fans walked out muttering words like `` ho...      0\n",
              "8543                                In this case zero .      1"
            ]
          },
          "metadata": {
            "tags": []
          },
          "execution_count": 99
        }
      ]
    },
    {
      "cell_type": "code",
      "metadata": {
        "id": "e_xc36zY7BAk",
        "colab_type": "code",
        "colab": {}
      },
      "source": [
        "records_train = train.to_records(index=False)\n",
        "result_train = list(records_train)\n",
        "\n",
        "records_val = val.to_records(index=False)\n",
        "result_val = list(records_val)\n",
        "\n",
        "records_test = test.to_records(index=False)\n",
        "result_test = list(records_test)\n"
      ],
      "execution_count": 0,
      "outputs": []
    },
    {
      "cell_type": "code",
      "metadata": {
        "id": "qHCZEVmWNDtu",
        "colab_type": "code",
        "colab": {}
      },
      "source": [
        "from transformers import TFXLNetForSequenceClassification, XLNetConfig, XLNetTokenizer\n",
        "from transformers import *"
      ],
      "execution_count": 0,
      "outputs": []
    },
    {
      "cell_type": "code",
      "metadata": {
        "id": "LaiSJlcmNHES",
        "colab_type": "code",
        "colab": {}
      },
      "source": [
        "MAX_LENGTH=512\n",
        "BATCH_SIZE=6\n",
        "EVAL_BATCH_SIZE=12\n",
        "\n",
        "NUM_LABELS=5\n",
        "\n",
        "config=XLNetConfig.from_pretrained(\"xlnet-base-cased\", num_labels=NUM_LABELS,ff_activation=\"gelu\",dropout=0.1)\n",
        "tokenizer=XLNetTokenizer.from_pretrained(\"xlnet-base-cased\")\n",
        "model= TFXLNetForSequenceClassification.from_pretrained(\"xlnet-base-cased\",config=config)"
      ],
      "execution_count": 0,
      "outputs": []
    },
    {
      "cell_type": "code",
      "metadata": {
        "id": "3UaNXSDkOYMR",
        "colab_type": "code",
        "colab": {
          "base_uri": "https://localhost:8080/",
          "height": 901
        },
        "outputId": "1f97b6a8-0502-4da1-be40-b460d6261acd"
      },
      "source": [
        "config"
      ],
      "execution_count": 124,
      "outputs": [
        {
          "output_type": "execute_result",
          "data": {
            "text/plain": [
              "XLNetConfig {\n",
              "  \"architectures\": [\n",
              "    \"XLNetLMHeadModel\"\n",
              "  ],\n",
              "  \"attn_type\": \"bi\",\n",
              "  \"bi_data\": false,\n",
              "  \"bos_token_id\": 1,\n",
              "  \"clamp_len\": -1,\n",
              "  \"d_head\": 64,\n",
              "  \"d_inner\": 3072,\n",
              "  \"d_model\": 768,\n",
              "  \"dropout\": 0.1,\n",
              "  \"end_n_top\": 5,\n",
              "  \"eos_token_id\": 2,\n",
              "  \"ff_activation\": \"gelu\",\n",
              "  \"id2label\": {\n",
              "    \"0\": \"LABEL_0\",\n",
              "    \"1\": \"LABEL_1\",\n",
              "    \"2\": \"LABEL_2\",\n",
              "    \"3\": \"LABEL_3\",\n",
              "    \"4\": \"LABEL_4\"\n",
              "  },\n",
              "  \"initializer_range\": 0.02,\n",
              "  \"label2id\": {\n",
              "    \"LABEL_0\": 0,\n",
              "    \"LABEL_1\": 1,\n",
              "    \"LABEL_2\": 2,\n",
              "    \"LABEL_3\": 3,\n",
              "    \"LABEL_4\": 4\n",
              "  },\n",
              "  \"layer_norm_eps\": 1e-12,\n",
              "  \"mem_len\": null,\n",
              "  \"model_type\": \"xlnet\",\n",
              "  \"n_head\": 12,\n",
              "  \"n_layer\": 12,\n",
              "  \"pad_token_id\": 5,\n",
              "  \"reuse_len\": null,\n",
              "  \"same_length\": false,\n",
              "  \"start_n_top\": 5,\n",
              "  \"summary_activation\": \"tanh\",\n",
              "  \"summary_last_dropout\": 0.1,\n",
              "  \"summary_type\": \"last\",\n",
              "  \"summary_use_proj\": true,\n",
              "  \"task_specific_params\": {\n",
              "    \"text-generation\": {\n",
              "      \"do_sample\": true,\n",
              "      \"max_length\": 250\n",
              "    }\n",
              "  },\n",
              "  \"untie_r\": true,\n",
              "  \"vocab_size\": 32000\n",
              "}"
            ]
          },
          "metadata": {
            "tags": []
          },
          "execution_count": 124
        }
      ]
    },
    {
      "cell_type": "code",
      "metadata": {
        "id": "HEv3yfzJMDVR",
        "colab_type": "code",
        "colab": {}
      },
      "source": [
        "def convert_example_to_feature(text):\n",
        "  \n",
        "  return tokenizer.encode_plus(text, \n",
        "                add_special_tokens = True, \n",
        "                max_length = MAX_LENGTH, \n",
        "                pad_to_max_length = True, \n",
        "                return_attention_mask = True,\n",
        "              )"
      ],
      "execution_count": 0,
      "outputs": []
    },
    {
      "cell_type": "code",
      "metadata": {
        "id": "iWgT1Y9xMG31",
        "colab_type": "code",
        "colab": {}
      },
      "source": [
        "def map_example_to_dict(input_ids, attention_masks, token_type_ids, label):\n",
        "  return {\n",
        "      \"input_ids\": input_ids,\n",
        "      \"token_type_ids\": token_type_ids,\n",
        "      \"attention_mask\": attention_masks,\n",
        "  }, label\n",
        "\n",
        "def encode_examples(ds):\n",
        "  \n",
        "  input_ids_list = []\n",
        "  token_type_ids_list = []\n",
        "  attention_mask_list = []\n",
        "  label_list = []\n",
        "\n",
        "    \n",
        "  for text, label in ds:\n",
        "\n",
        "    bert_input = convert_example_to_feature(text)\n",
        "  \n",
        "    input_ids_list.append(bert_input['input_ids'])\n",
        "    token_type_ids_list.append(bert_input['token_type_ids'])\n",
        "    attention_mask_list.append(bert_input['attention_mask'])\n",
        "    label_list.append([label])\n",
        "\n",
        "  return tf.data.Dataset.from_tensor_slices((input_ids_list, attention_mask_list, token_type_ids_list, label_list)).map(map_example_to_dict)"
      ],
      "execution_count": 0,
      "outputs": []
    },
    {
      "cell_type": "code",
      "metadata": {
        "id": "sFKIgPYBMJo3",
        "colab_type": "code",
        "colab": {}
      },
      "source": [
        "ds_train_encoded = encode_examples(result_train).shuffle(10000).batch(BATCH_SIZE)\n",
        "ds_val_encoded = encode_examples(result_val).shuffle(10000).batch(EVAL_BATCH_SIZE)\n",
        "ds_test_encoded = encode_examples(result_test).shuffle(10000).batch(EVAL_BATCH_SIZE)"
      ],
      "execution_count": 0,
      "outputs": []
    },
    {
      "cell_type": "code",
      "metadata": {
        "id": "byTuGbe187AF",
        "colab_type": "code",
        "colab": {
          "base_uri": "https://localhost:8080/",
          "height": 54
        },
        "outputId": "5811e87e-39b7-4be3-8f24-439a35d5e8d1"
      },
      "source": [
        "print(ds_train_encoded)"
      ],
      "execution_count": 128,
      "outputs": [
        {
          "output_type": "stream",
          "text": [
            "<BatchDataset shapes: ({input_ids: (None, 512), token_type_ids: (None, 512), attention_mask: (None, 512)}, (None, 1)), types: ({input_ids: tf.int32, token_type_ids: tf.int32, attention_mask: tf.int32}, tf.int32)>\n"
          ],
          "name": "stdout"
        }
      ]
    },
    {
      "cell_type": "code",
      "metadata": {
        "id": "emX4yq3RMGOd",
        "colab_type": "code",
        "colab": {}
      },
      "source": [
        "optimizer=tf.keras.optimizers.Adam(lr=5e-5,epsilon=1e-8)\n",
        "loss=tf.keras.losses.SparseCategoricalCrossentropy(from_logits=True)\n",
        "metric=tf.keras.metrics.SparseCategoricalAccuracy(\"accuracy\")\n",
        "\n",
        "model.compile(optimizer=optimizer,loss=loss,metrics=[metric])"
      ],
      "execution_count": 0,
      "outputs": []
    },
    {
      "cell_type": "code",
      "metadata": {
        "id": "rmi6y1ye9lde",
        "colab_type": "code",
        "colab": {}
      },
      "source": [
        "train_steps= len(result_train) // BATCH_SIZE\n",
        "val_steps= len(result_val) // EVAL_BATCH_SIZE"
      ],
      "execution_count": 0,
      "outputs": []
    },
    {
      "cell_type": "code",
      "metadata": {
        "id": "g_9M5iZOKG45",
        "colab_type": "code",
        "colab": {
          "base_uri": "https://localhost:8080/",
          "height": 255
        },
        "outputId": "0cba8fbf-149a-4811-a6b5-e6034d6dca28"
      },
      "source": [
        "model.summary()"
      ],
      "execution_count": 131,
      "outputs": [
        {
          "output_type": "stream",
          "text": [
            "Model: \"tfxl_net_for_sequence_classification_10\"\n",
            "_________________________________________________________________\n",
            "Layer (type)                 Output Shape              Param #   \n",
            "=================================================================\n",
            "transformer (TFXLNetMainLaye multiple                  116718336 \n",
            "_________________________________________________________________\n",
            "sequence_summary (TFSequence multiple                  590592    \n",
            "_________________________________________________________________\n",
            "logits_proj (Dense)          multiple                  3845      \n",
            "=================================================================\n",
            "Total params: 117,312,773\n",
            "Trainable params: 117,312,773\n",
            "Non-trainable params: 0\n",
            "_________________________________________________________________\n"
          ],
          "name": "stdout"
        }
      ]
    },
    {
      "cell_type": "code",
      "metadata": {
        "id": "StM2880UJnEY",
        "colab_type": "code",
        "colab": {}
      },
      "source": [
        "history= model.fit(ds_train_encoded, epochs=1, validation_data=ds_val_encoded, verbose=2, steps_per_epoch=train_steps, validation_steps=val_steps)"
      ],
      "execution_count": 0,
      "outputs": []
    },
    {
      "cell_type": "code",
      "metadata": {
        "id": "9sBnfJ91QWW2",
        "colab_type": "code",
        "colab": {}
      },
      "source": [
        "history1=model.evaluate(ds_test_encoded)"
      ],
      "execution_count": 0,
      "outputs": []
    },
    {
      "cell_type": "code",
      "metadata": {
        "id": "49Vq3tH-KVr3",
        "colab_type": "code",
        "colab": {}
      },
      "source": [
        ""
      ],
      "execution_count": 0,
      "outputs": []
    }
  ]
}
